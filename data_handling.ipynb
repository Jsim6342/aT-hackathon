{
 "cells": [
  {
   "cell_type": "code",
   "execution_count": 244,
   "metadata": {},
   "outputs": [],
   "source": [
    "import pandas as pd #필요한 라이브러리 임포트\n",
    "import numpy as np"
   ]
  },
  {
   "cell_type": "code",
   "execution_count": 514,
   "metadata": {
    "scrolled": true
   },
   "outputs": [],
   "source": [
    "#일일수급상황 데이터 불러오기 인덱스로 조회일자 설정\n",
    "data_set = pd.read_excel('./data/일일수급상황_2019.xlsx',index_col='조회일자') "
   ]
  },
  {
   "cell_type": "code",
   "execution_count": 516,
   "metadata": {},
   "outputs": [],
   "source": [
    "#불러온 데이터셋에서 필요한 컬럼인 중분류명과 주의단계코드만 추출\n",
    "data = data_set[['중분류명','주의단계코드']]"
   ]
  },
  {
   "cell_type": "code",
   "execution_count": 641,
   "metadata": {},
   "outputs": [
    {
     "data": {
      "text/plain": [
       "'20191201'"
      ]
     },
     "execution_count": 641,
     "metadata": {},
     "output_type": "execute_result"
    }
   ],
   "source": [
    "#일일수급상황(2019년 데이터) 데이터에서 현재날짜에서 작년꺼 보기위해 날짜를 빼준다.\n",
    "from datetime import datetime, timedelta\n",
    "yesterday = datetime.today() - timedelta(367) #현재날짜에서 367일 빼주기\n",
    "yes = yesterday.strftime('%Y%m%d') \n",
    "yes"
   ]
  },
  {
   "cell_type": "code",
   "execution_count": 637,
   "metadata": {},
   "outputs": [
    {
     "data": {
      "text/html": [
       "<div>\n",
       "<style scoped>\n",
       "    .dataframe tbody tr th:only-of-type {\n",
       "        vertical-align: middle;\n",
       "    }\n",
       "\n",
       "    .dataframe tbody tr th {\n",
       "        vertical-align: top;\n",
       "    }\n",
       "\n",
       "    .dataframe thead th {\n",
       "        text-align: right;\n",
       "    }\n",
       "</style>\n",
       "<table border=\"1\" class=\"dataframe\">\n",
       "  <thead>\n",
       "    <tr style=\"text-align: right;\">\n",
       "      <th></th>\n",
       "      <th>중분류명</th>\n",
       "      <th>주의단계코드</th>\n",
       "    </tr>\n",
       "    <tr>\n",
       "      <th>조회일자</th>\n",
       "      <th></th>\n",
       "      <th></th>\n",
       "    </tr>\n",
       "  </thead>\n",
       "  <tbody>\n",
       "    <tr>\n",
       "      <th>20190101</th>\n",
       "      <td>배추</td>\n",
       "      <td>3.0</td>\n",
       "    </tr>\n",
       "    <tr>\n",
       "      <th>20190101</th>\n",
       "      <td>무</td>\n",
       "      <td>3.0</td>\n",
       "    </tr>\n",
       "    <tr>\n",
       "      <th>20190101</th>\n",
       "      <td>건고추</td>\n",
       "      <td>7.0</td>\n",
       "    </tr>\n",
       "    <tr>\n",
       "      <th>20190101</th>\n",
       "      <td>마늘</td>\n",
       "      <td>NaN</td>\n",
       "    </tr>\n",
       "    <tr>\n",
       "      <th>20190101</th>\n",
       "      <td>마늘</td>\n",
       "      <td>4.0</td>\n",
       "    </tr>\n",
       "    <tr>\n",
       "      <th>...</th>\n",
       "      <td>...</td>\n",
       "      <td>...</td>\n",
       "    </tr>\n",
       "    <tr>\n",
       "      <th>20191231</th>\n",
       "      <td>건고추</td>\n",
       "      <td>4.0</td>\n",
       "    </tr>\n",
       "    <tr>\n",
       "      <th>20191231</th>\n",
       "      <td>마늘</td>\n",
       "      <td>NaN</td>\n",
       "    </tr>\n",
       "    <tr>\n",
       "      <th>20191231</th>\n",
       "      <td>마늘</td>\n",
       "      <td>2.0</td>\n",
       "    </tr>\n",
       "    <tr>\n",
       "      <th>20191231</th>\n",
       "      <td>양파</td>\n",
       "      <td>3.0</td>\n",
       "    </tr>\n",
       "    <tr>\n",
       "      <th>20191231</th>\n",
       "      <td>대파</td>\n",
       "      <td>4.0</td>\n",
       "    </tr>\n",
       "  </tbody>\n",
       "</table>\n",
       "<p>2555 rows × 2 columns</p>\n",
       "</div>"
      ],
      "text/plain": [
       "         중분류명  주의단계코드\n",
       "조회일자                 \n",
       "20190101   배추     3.0\n",
       "20190101    무     3.0\n",
       "20190101  건고추     7.0\n",
       "20190101   마늘     NaN\n",
       "20190101   마늘     4.0\n",
       "...       ...     ...\n",
       "20191231  건고추     4.0\n",
       "20191231   마늘     NaN\n",
       "20191231   마늘     2.0\n",
       "20191231   양파     3.0\n",
       "20191231   대파     4.0\n",
       "\n",
       "[2555 rows x 2 columns]"
      ]
     },
     "execution_count": 637,
     "metadata": {},
     "output_type": "execute_result"
    }
   ],
   "source": [
    "data"
   ]
  },
  {
   "cell_type": "code",
   "execution_count": 638,
   "metadata": {},
   "outputs": [
    {
     "data": {
      "text/html": [
       "<div>\n",
       "<style scoped>\n",
       "    .dataframe tbody tr th:only-of-type {\n",
       "        vertical-align: middle;\n",
       "    }\n",
       "\n",
       "    .dataframe tbody tr th {\n",
       "        vertical-align: top;\n",
       "    }\n",
       "\n",
       "    .dataframe thead th {\n",
       "        text-align: right;\n",
       "    }\n",
       "</style>\n",
       "<table border=\"1\" class=\"dataframe\">\n",
       "  <thead>\n",
       "    <tr style=\"text-align: right;\">\n",
       "      <th></th>\n",
       "      <th>중분류명</th>\n",
       "      <th>주의단계코드</th>\n",
       "    </tr>\n",
       "    <tr>\n",
       "      <th>조회일자</th>\n",
       "      <th></th>\n",
       "      <th></th>\n",
       "    </tr>\n",
       "  </thead>\n",
       "  <tbody>\n",
       "    <tr>\n",
       "      <th>20191201</th>\n",
       "      <td>배추</td>\n",
       "      <td>5.0</td>\n",
       "    </tr>\n",
       "    <tr>\n",
       "      <th>20191201</th>\n",
       "      <td>무</td>\n",
       "      <td>6.0</td>\n",
       "    </tr>\n",
       "    <tr>\n",
       "      <th>20191201</th>\n",
       "      <td>건고추</td>\n",
       "      <td>4.0</td>\n",
       "    </tr>\n",
       "    <tr>\n",
       "      <th>20191201</th>\n",
       "      <td>마늘</td>\n",
       "      <td>NaN</td>\n",
       "    </tr>\n",
       "    <tr>\n",
       "      <th>20191201</th>\n",
       "      <td>마늘</td>\n",
       "      <td>2.0</td>\n",
       "    </tr>\n",
       "    <tr>\n",
       "      <th>20191201</th>\n",
       "      <td>양파</td>\n",
       "      <td>1.0</td>\n",
       "    </tr>\n",
       "    <tr>\n",
       "      <th>20191201</th>\n",
       "      <td>대파</td>\n",
       "      <td>1.0</td>\n",
       "    </tr>\n",
       "  </tbody>\n",
       "</table>\n",
       "</div>"
      ],
      "text/plain": [
       "         중분류명  주의단계코드\n",
       "조회일자                 \n",
       "20191201   배추     5.0\n",
       "20191201    무     6.0\n",
       "20191201  건고추     4.0\n",
       "20191201   마늘     NaN\n",
       "20191201   마늘     2.0\n",
       "20191201   양파     1.0\n",
       "20191201   대파     1.0"
      ]
     },
     "execution_count": 638,
     "metadata": {},
     "output_type": "execute_result"
    }
   ],
   "source": [
    "n = data.loc[yes] #현재날짜 인덱스에 있는 값만 추출하기\n",
    "n"
   ]
  },
  {
   "cell_type": "code",
   "execution_count": 642,
   "metadata": {
    "scrolled": true
   },
   "outputs": [
    {
     "data": {
      "text/plain": [
       "조회일자\n",
       "20191201     무\n",
       "20191201    양파\n",
       "20191201    대파\n",
       "Name: 중분류명, dtype: object"
      ]
     },
     "execution_count": 642,
     "metadata": {},
     "output_type": "execute_result"
    }
   ],
   "source": [
    "#주의단계코드의 제일 큰 값과 작은 값을 추출하여 그 값에 해당하는 중분류명 추출\n",
    "\n",
    "max_min_code = n[(n['주의단계코드']==max(n['주의단계코드'])) | (n['주의단계코드']==min(n['주의단계코드']))] \n",
    "max_min_code['중분류명']"
   ]
  }
 ],
 "metadata": {
  "kernelspec": {
   "display_name": "Python 3",
   "language": "python",
   "name": "python3"
  },
  "language_info": {
   "codemirror_mode": {
    "name": "ipython",
    "version": 3
   },
   "file_extension": ".py",
   "mimetype": "text/x-python",
   "name": "python",
   "nbconvert_exporter": "python",
   "pygments_lexer": "ipython3",
   "version": "3.8.3"
  }
 },
 "nbformat": 4,
 "nbformat_minor": 4
}
